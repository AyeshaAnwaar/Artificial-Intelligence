{
 "cells": [
  {
   "cell_type": "markdown",
   "id": "76f29581",
   "metadata": {},
   "source": [
    "### Activity 1\n",
    "Create a graph and do BFS."
   ]
  },
  {
   "cell_type": "code",
   "execution_count": 7,
   "id": "6ef20d3d",
   "metadata": {},
   "outputs": [
    {
     "name": "stdout",
     "output_type": "stream",
     "text": [
      "BFS : \n",
      "A B E C D F G "
     ]
    }
   ],
   "source": [
    "class Node:\n",
    "    def __init__(self, state, parent, connectedNodes, totalCost):\n",
    "        self.state = state\n",
    "        self.parent = parent\n",
    "        self.connectedNodes = connectedNodes\n",
    "        self.totalCost = totalCost\n",
    "        \n",
    "graph = {'A': Node('A', None, ['B', 'E', 'C'], None),\n",
    "         'B': Node('B', None, ['A', 'D', 'E'], None),\n",
    "         'C': Node('C', None, ['A', 'F', 'G'], None),\n",
    "         'D': Node('D', None, ['B', 'E'], None),\n",
    "         'E': Node('E', None, ['A', 'B', 'D'], None),\n",
    "         'F': Node('F', None, ['C'], None),\n",
    "         'G': Node('G', None, ['C'], None)}\n",
    "\n",
    "\n",
    "\n",
    "def BFS_Print(graph):\n",
    "    \n",
    "    graphNodes_Keys = [key for key in graph] # The key for each node is stored here\n",
    "    visitedNodes = [] # Store each visited node\n",
    "    queue = [] \n",
    "    queue.append(graphNodes_Keys[0]) # starting point\n",
    "    \n",
    "    while queue:\n",
    "        \n",
    "        currentNodeKey = queue.pop(0)\n",
    "        \n",
    "        if currentNodeKey in visitedNodes:\n",
    "            continue\n",
    "        \n",
    "        visitedNodes.append(currentNodeKey)\n",
    "        \n",
    "        for node in graph[currentNodeKey].connectedNodes:\n",
    "            queue.append(node)\n",
    "        \n",
    "    for node in visitedNodes:\n",
    "        print(node, end = ' ')\n",
    "        \n",
    "print('BFS : ')\n",
    "BFS_Print(graph)"
   ]
  },
  {
   "cell_type": "markdown",
   "id": "46ffef38",
   "metadata": {},
   "source": [
    "## Lab Task 1\n",
    "Imagine going from Arad to Bucharest in the following map. Your goal is to minimize the distance\n",
    "mentioned in the map during your travel. Implement a depth first search to find the corresponding\n",
    "path."
   ]
  },
  {
   "cell_type": "code",
   "execution_count": 9,
   "id": "c0a9c21c",
   "metadata": {},
   "outputs": [
    {
     "name": "stdout",
     "output_type": "stream",
     "text": [
      "Enter the initial Node: Timisoara\n",
      "Enter the Destination Node: Arad\n",
      "\n",
      "Shortest Path Is:  ['Timisoara', 'Arad']\n"
     ]
    }
   ],
   "source": [
    "# Lab Task 1\n",
    "class Node:\n",
    "    def __init__(self, state, parent, actions):\n",
    "        self.state = state\n",
    "        self.parent = parent\n",
    "        self.actions = actions\n",
    "\n",
    "def BFS():\n",
    "    startingNode = input(\"Enter the initial Node: \")\n",
    "    destinationNode = input(\"Enter the Destination Node: \")\n",
    "\n",
    "    nodeGraphs = {'Oradea': Node('Oradea', None, ['Zerind' , 'Sibui']),\n",
    "                  'Zerind': Node('Zerind', None, ['Oradea' , 'Arad']),\n",
    "                  'Neamt': Node('Neamt', None, ['Iasi']),\n",
    "                  'Arad': Node('Arad', None, ['Zerind', 'Sibui' , 'Timisoara']),\n",
    "                  'Isai': Node('Isai', None, ['Neamt','Vaslui']),\n",
    "                  'Sibui': Node('Sibui', None, ['Oradea', 'Arad' , 'Fagaras']),\n",
    "                  'Fagaras': Node('Fagaras', None, ['Sibui', 'Bucharest']),\n",
    "                  'Vaslui': Node('Vaslui', None, ['Isai','Urziceni']),\n",
    "                  'Timisoara': Node('Timisoara', None, ['Arad','Lugoj']),\n",
    "                  'Riminica': Node('Riminica', None, ['Sibui','Pitesti','Craiova']),\n",
    "                  'Lugoj': Node('Lugoj', None, ['Timisoara','Mehadia']),\n",
    "                  'Pitesti': Node('Pitesti', None, ['Riminica','Craiova','Bucharest']),\n",
    "                  'Mehadia': Node('Mehadia', None, ['Lugoj','Drobeta']),\n",
    "                  'Bucharest': Node('Bucharest', None, ['Fagaras','Pitesti','Urziceni']),\n",
    "                  'Urziceni': Node('Urziceni', None, ['Bucharest','Hirsova','Vaslui']),\n",
    "                  'Hirsova': Node('Hirsova', None, ['Urziceni','Eforie']),\n",
    "                  'Drobeta': Node('Drobeta', None, ['Mehndia','Craiova']),\n",
    "                  'Craiova': Node('Craiova', None, ['Drobeta','Riminica','Pitesti']),\n",
    "                  'Giurgui': Node('Giurgui', None, ['Bucharest']),\n",
    "                  'Eforie': Node('Eforie', None, ['Hirsova'])}\n",
    "    queue = [startingNode]\n",
    "    visitedNode = []\n",
    "    \n",
    "    while len(queue) != 0:\n",
    "        temp = queue.pop(0)\n",
    "        visitedNode.append(temp)\n",
    "        \n",
    "        for child in nodeGraphs[temp].actions:\n",
    "            if child not in queue and child not in visitedNode:\n",
    "                nodeGraphs[child].parent = temp\n",
    "                if nodeGraphs[child].state == destinationNode:\n",
    "                    return roadMap(nodeGraphs, startingNode ,destinationNode)\n",
    "                queue.append(child)\n",
    "                \n",
    "def roadMap(nodeGraphs, startingNode, destinationNode):\n",
    "    temporary = [destinationNode]\n",
    "    parentCurrent = nodeGraphs[destinationNode].parent\n",
    "    \n",
    "    while parentCurrent != None:\n",
    "        temporary.append(parentCurrent)\n",
    "        parentCurrent = nodeGraphs[parentCurrent].parent\n",
    "    temporary.reverse()\n",
    "    return temporary\n",
    "\n",
    "sol = BFS()\n",
    "print()\n",
    "print(\"Shortest Path Is: \" , sol)"
   ]
  },
  {
   "cell_type": "code",
   "execution_count": null,
   "id": "4db80170",
   "metadata": {},
   "outputs": [],
   "source": []
  }
 ],
 "metadata": {
  "kernelspec": {
   "display_name": "Python 3 (ipykernel)",
   "language": "python",
   "name": "python3"
  },
  "language_info": {
   "codemirror_mode": {
    "name": "ipython",
    "version": 3
   },
   "file_extension": ".py",
   "mimetype": "text/x-python",
   "name": "python",
   "nbconvert_exporter": "python",
   "pygments_lexer": "ipython3",
   "version": "3.10.7"
  }
 },
 "nbformat": 4,
 "nbformat_minor": 5
}
