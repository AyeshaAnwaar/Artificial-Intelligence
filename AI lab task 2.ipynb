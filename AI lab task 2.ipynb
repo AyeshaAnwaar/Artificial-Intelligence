{
 "cells": [
  {
   "cell_type": "markdown",
   "id": "1b929506",
   "metadata": {},
   "source": [
    "### lab 1"
   ]
  },
  {
   "cell_type": "code",
   "execution_count": 1,
   "id": "f50547a8",
   "metadata": {},
   "outputs": [
    {
     "name": "stdout",
     "output_type": "stream",
     "text": [
      "<----- Enter values in List 1 ----->\n",
      "Enter value at index [0] : 2\n",
      "Enter value at index [1] : 3\n",
      "Enter value at index [2] : 5\n",
      "Enter value at index [3] : 6\n",
      "Enter value at index [4] : 9\n",
      "\n",
      "<----- Enter values in List 2 ----->\n",
      "Enter value at index [0] : 42\n",
      "Enter value at index [1] : 8\n",
      "Enter value at index [2] : 5\n",
      "Enter value at index [3] : 6\n",
      "Enter value at index [4] : 4\n",
      "\n",
      "<----- List 1  ----->\n",
      "[2, 3, 5, 6, 9]\n",
      "\n",
      "<----- List 2  ----->\n",
      "[42, 8, 5, 6, 4]\n",
      "\n",
      "<----- Combined and Sorted  ----->\n",
      "[2, 3, 4, 5, 5, 6, 6, 8, 9, 42]\n"
     ]
    }
   ],
   "source": [
    "def sortList(l):\n",
    "    for i in range(len(l)):\n",
    "        smallestElementIndex = i\n",
    "        for j in range(i + 1, len(l)):\n",
    "            if(l[j] < l[smallestElementIndex]):\n",
    "                smallestElementIndex = j\n",
    "        if(smallestElementIndex != i):\n",
    "            temp = l[i]\n",
    "            l[i] = l[smallestElementIndex]\n",
    "            l[smallestElementIndex] = temp\n",
    "            \n",
    "list1 = []\n",
    "list2 = []\n",
    "\n",
    "print('<----- Enter values in List 1 ----->')\n",
    "for i in range(5):\n",
    "    num = int(input(f'Enter value at index [{i}] : '))\n",
    "    list1.append(num)\n",
    "    \n",
    "print('\\n<----- Enter values in List 2 ----->')\n",
    "for i in range(5):\n",
    "    num = int(input(f'Enter value at index [{i}] : '))\n",
    "    list2.append(num)\n",
    "\n",
    "list3 = list1 + list2\n",
    "sortList(list3)\n",
    "\n",
    "print('\\n<----- List 1  ----->')\n",
    "print(list1)\n",
    "print('\\n<----- List 2  ----->')\n",
    "print(list2)\n",
    "print('\\n<----- Combined and Sorted  ----->')\n",
    "print(list3)"
   ]
  },
  {
   "cell_type": "markdown",
   "id": "66321fa4",
   "metadata": {},
   "source": [
    "### lab 2"
   ]
  },
  {
   "cell_type": "code",
   "execution_count": 2,
   "id": "370874ab",
   "metadata": {},
   "outputs": [
    {
     "name": "stdout",
     "output_type": "stream",
     "text": [
      "Smallest = 2\n",
      "Largest = 42\n"
     ]
    }
   ],
   "source": [
    "smallest = list3[0]\n",
    "largest = list3[-1]\n",
    "\n",
    "print(f'Smallest = {smallest}')\n",
    "print(f'Largest = {largest}')"
   ]
  },
  {
   "cell_type": "markdown",
   "id": "fc0a507e",
   "metadata": {},
   "source": [
    "### lab 3"
   ]
  },
  {
   "cell_type": "code",
   "execution_count": 3,
   "id": "a29c2c52",
   "metadata": {},
   "outputs": [
    {
     "name": "stdout",
     "output_type": "stream",
     "text": [
      "We know birthdays of :  \n",
      "yusra \n",
      "anusha\n",
      "ayesha\n",
      "Who's birthday you are looking for? : ayesha\n",
      "Record found! \n",
      "513-may-2004\n"
     ]
    }
   ],
   "source": [
    "birthdayRecords = {'yusra ':'25-aug-2000', 'anusha':'5-july-2002', 'ayesha':'513-may-2004'}\n",
    "print(\"We know birthdays of :  \")\n",
    "for names in birthdayRecords:\n",
    "    print(names)\n",
    "searchFor = input(\"Who's birthday you are looking for? : \")\n",
    "if searchFor in birthdayRecords:\n",
    "    print(\"Record found! \")\n",
    "    print(birthdayRecords[searchFor])\n",
    "else:\n",
    "    print(\"Record NOT found!\")"
   ]
  },
  {
   "cell_type": "markdown",
   "id": "f7b3a690",
   "metadata": {},
   "source": [
    "### lab4"
   ]
  },
  {
   "cell_type": "code",
   "execution_count": 4,
   "id": "05354e0f",
   "metadata": {},
   "outputs": [
    {
     "name": "stdout",
     "output_type": "stream",
     "text": [
      "{'name': 'aisha', 'salary': 8000}\n"
     ]
    }
   ],
   "source": [
    "dictionary = {\"name\": \"aisha\", \"age\": 20, \"salary\": 8000, \"city\": \"LOS ANGLES\"} \n",
    "keys = [\"name\", \"salary\"]\n",
    "new_dict={}\n",
    "for key in keys:\n",
    "  new_dict[key] = dictionary[key]\n",
    "print(new_dict)"
   ]
  },
  {
   "cell_type": "code",
   "execution_count": null,
   "id": "eaab70b0",
   "metadata": {},
   "outputs": [],
   "source": []
  }
 ],
 "metadata": {
  "kernelspec": {
   "display_name": "Python 3 (ipykernel)",
   "language": "python",
   "name": "python3"
  },
  "language_info": {
   "codemirror_mode": {
    "name": "ipython",
    "version": 3
   },
   "file_extension": ".py",
   "mimetype": "text/x-python",
   "name": "python",
   "nbconvert_exporter": "python",
   "pygments_lexer": "ipython3",
   "version": "3.10.7"
  }
 },
 "nbformat": 4,
 "nbformat_minor": 5
}
